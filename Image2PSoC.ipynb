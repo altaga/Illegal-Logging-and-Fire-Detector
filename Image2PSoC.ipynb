{
  "nbformat": 4,
  "nbformat_minor": 0,
  "metadata": {
    "colab": {
      "name": "Image2PSoC.ipynb",
      "private_outputs": true,
      "provenance": [],
      "collapsed_sections": [],
      "authorship_tag": "ABX9TyPjr2JBN1F2Uzge74PXjEX0",
      "include_colab_link": true
    },
    "kernelspec": {
      "name": "python3",
      "display_name": "Python 3"
    },
    "language_info": {
      "name": "python"
    }
  },
  "cells": [
    {
      "cell_type": "markdown",
      "metadata": {
        "id": "view-in-github",
        "colab_type": "text"
      },
      "source": [
        "<a href=\"https://colab.research.google.com/github/altaga/Illegal-Logging-and-Fire-Detector/blob/main/Image2PSoC.ipynb\" target=\"_parent\"><img src=\"https://colab.research.google.com/assets/colab-badge.svg\" alt=\"Open In Colab\"/></a>"
      ]
    },
    {
      "cell_type": "code",
      "execution_count": null,
      "metadata": {
        "id": "bLWjlhjo9J0i"
      },
      "outputs": [],
      "source": [
        "import cv2\n",
        "import numpy as np\n",
        "img = cv2.imread('img.png')\n",
        "counter = 0\n",
        "counter2 = 0\n",
        "array = \"\"\n",
        "for x in img:\n",
        "  for y in x:\n",
        "    if counter == 8:\n",
        "      counter=0\n",
        "      array=array+\",\"\n",
        "      counter2+=1\n",
        "      if counter2 == 16:\n",
        "        print(array)\n",
        "        counter2 = 0\n",
        "        array = \"\"\n",
        "    if y[0]<=128:\n",
        "      array=array+\"X\"\n",
        "    else:\n",
        "      array=array+\"_\"  \n",
        "    counter+=1\n",
        "print(array)"
      ]
    }
  ]
}